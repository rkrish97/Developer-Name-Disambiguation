{
  "nbformat": 4,
  "nbformat_minor": 0,
  "metadata": {
    "colab": {
      "name": "data_integration",
      "provenance": [],
      "collapsed_sections": [],
      "authorship_tag": "ABX9TyOMFEmid7CV20EAgPu3y2mB",
      "include_colab_link": true
    },
    "kernelspec": {
      "name": "python3",
      "display_name": "Python 3"
    }
  },
  "cells": [
    {
      "cell_type": "markdown",
      "metadata": {
        "id": "view-in-github",
        "colab_type": "text"
      },
      "source": [
        "<a href=\"https://colab.research.google.com/github/Vishal-ib97/Developer-Name-Disambiguation/blob/main/data_integration.ipynb\" target=\"_parent\"><img src=\"https://colab.research.google.com/assets/colab-badge.svg\" alt=\"Open In Colab\"/></a>"
      ]
    },
    {
      "cell_type": "code",
      "metadata": {
        "id": "F2iBMfAQVMJ_"
      },
      "source": [
        "import requests\r\n",
        "from IPython.core.display import HTML\r\n",
        "import numpy as np\r\n",
        "import matplotlib.pyplot as plt\r\n",
        "import pandas as pd\r\n",
        "from bs4 import BeautifulSoup\r\n",
        "import datetime\r\n",
        "import os\r\n",
        "import re\r\n",
        "import pandas as pd\r\n",
        "import numpy as np\r\n",
        "import sys\r\n",
        "import re\r\n",
        "import unicodedata"
      ],
      "execution_count": 1,
      "outputs": []
    },
    {
      "cell_type": "code",
      "metadata": {
        "id": "KQgdB4thVRpK",
        "colab": {
          "base_uri": "https://localhost:8080/"
        },
        "outputId": "3a7b12f0-24d1-4708-ed31-0581c3aec60d"
      },
      "source": [
        "#mount drive\r\n",
        "from google.colab import drive\r\n",
        "drive.mount('/content/gdrive')"
      ],
      "execution_count": 2,
      "outputs": [
        {
          "output_type": "stream",
          "text": [
            "Mounted at /content/gdrive\n"
          ],
          "name": "stdout"
        }
      ]
    },
    {
      "cell_type": "code",
      "metadata": {
        "id": "HgcFtVmAVmrT"
      },
      "source": [
        "#json files with contributor info\r\n",
        "#dataframe containing the user ids and the names\r\n",
        "import json\r\n",
        "import urllib\r\n",
        "url = \"http://people.apache.org/public/icla-info.json\"\r\n",
        "json_url = urllib.request.urlopen(url)\r\n",
        "data2 = json.loads(json_url.read())\r\n",
        "com_names2 = pd.DataFrame(list(data2['committers'].items()),columns = ['user_ids','author_name'])\r\n",
        "com_names2.to_csv('committers_with_ids.csv')\r\n",
        "\r\n",
        "#dataframe containing the user ids and project details for every project\r\n",
        "import json\r\n",
        "import urllib\r\n",
        "url = \"http://people.apache.org/public/public_ldap_projects.json\"\r\n",
        "json_url = urllib.request.urlopen(url)\r\n",
        "data = json.loads(json_url.read())\r\n",
        "\r\n",
        "com_names = pd.DataFrame(columns = ['createTimestamp', 'modifyTimestamp', 'members', 'owners', 'pmc', 'podling', 'project'])\r\n",
        "for proo in data[\"projects\"].keys():\r\n",
        "  if 'project' not in data[\"projects\"][proo]:\r\n",
        "    data[\"projects\"][proo][\"project\"] = proo\r\n",
        "  com_names = com_names.append(data[\"projects\"][proo], ignore_index = True)\r\n",
        "\r\n",
        "com_names.drop(['officer', 'owners'], axis = 1, inplace = True)\r\n",
        "com_names = com_names.explode('members')\r\n",
        "com_names.rename(columns = {'members' : 'user_ids'}, inplace = True)\r\n",
        "com_names.to_csv('ids_with_project_deets.csv')\r\n",
        "\r\n",
        "com = com_names2.merge(com_names, on = 'user_ids')\r\n",
        "com.author_name = com.author_name.str.normalize('NFKD').str.encode('ascii', errors='ignore').str.decode('utf-8')\r\n",
        "com.author_name = com.author_name.str.lower()\r\n",
        "com.author_name = com.author_name.astype('str')\r\n",
        "com.user_ids = com.user_ids.astype('str')\r\n",
        "com.drop_duplicates(subset = ['author_name', 'user_ids', 'project'], inplace = True)\r\n",
        "replace_str = [ \",\", \"\\):\", \"/\", \"\\\\\", \"*\", \"$\", \"`\", \"\\'\", \"\\\"\", \"|\", \",\", \" \\)\", \"=\", \"+\", \"#\", \"=\", \"\\[\", \"\\]\", \"?\", \"\\(\\)\\;\", \"\\);\", \";\", \".\", \"-\"]\r\n",
        "for i in replace_str:\r\n",
        "  com['author_name'] = com['author_name'].str.replace(i,\"\")\r\n",
        "com.to_csv(\"/content/gdrive/MyDrive/GG_Project_NLP/Data/commit_messages/json_data_updated.csv\")"
      ],
      "execution_count": null,
      "outputs": []
    },
    {
      "cell_type": "code",
      "metadata": {
        "id": "n7l-sXNIkfc0"
      },
      "source": [
        "#accumulating the from-subject data from the messages taken from all the pages\r\n",
        "f = pd.DataFrame()\r\n",
        "main = \"/content/gdrive/MyDrive/GG_Project_NLP/Data/commit_messages/subject_from\"\r\n",
        "for i in os.listdir(main):\r\n",
        "  path = os.path.join(main, i)\r\n",
        "  f = pd.concat([f, pd.read_csv(path)])\r\n",
        "f.to_csv(\"/content/gdrive/MyDrive/GG_Project_NLP/Data/commit_messages/commit_data_from_subject_10.csv\")"
      ],
      "execution_count": null,
      "outputs": []
    },
    {
      "cell_type": "code",
      "metadata": {
        "id": "8xUNKEvQkyR2"
      },
      "source": [
        "#accumulating commit message data for all the projects\r\n",
        "new_df = pd.DataFrame()\r\n",
        "main = \"/content/gdrive/MyDrive/GG_Project_NLP/Data/commit_messages/all_pages_author_email\"\r\n",
        "for i in os.listdir(main):\r\n",
        "  path = os.path.join(main, i)\r\n",
        "  new_df = pd.concat([new_df, pd.read_csv(path,low_memory=False)])\r\n",
        "\r\n",
        "com = pd.read_csv(\"/content/gdrive/MyDrive/GG_Project_NLP/Data/commit_messages/json_data_updated.csv\") #selecting projects that have user id details\r\n",
        "new_df = new_df[new_df.proj_name.isin(com.project)]\r\n",
        "new_df.drop_duplicates(subset = ['proj_name', 'date_time', 'author_name', 'email_id'], inplace = True) #dropping duplicates\r\n",
        "new_df.to_csv(\"/content/gdrive/MyDrive/GG_Project_NLP/Data/commit_messages/new_commits_df.csv\")"
      ],
      "execution_count": null,
      "outputs": []
    },
    {
      "cell_type": "code",
      "metadata": {
        "colab": {
          "base_uri": "https://localhost:8080/",
          "height": 204
        },
        "id": "jiiUwTMDfQHG",
        "outputId": "8fc29a26-5f4b-4eb1-a22b-588740373e7f"
      },
      "source": [
        "new_df.head()"
      ],
      "execution_count": 19,
      "outputs": [
        {
          "output_type": "execute_result",
          "data": {
            "text/html": [
              "<div>\n",
              "<style scoped>\n",
              "    .dataframe tbody tr th:only-of-type {\n",
              "        vertical-align: middle;\n",
              "    }\n",
              "\n",
              "    .dataframe tbody tr th {\n",
              "        vertical-align: top;\n",
              "    }\n",
              "\n",
              "    .dataframe thead th {\n",
              "        text-align: right;\n",
              "    }\n",
              "</style>\n",
              "<table border=\"1\" class=\"dataframe\">\n",
              "  <thead>\n",
              "    <tr style=\"text-align: right;\">\n",
              "      <th></th>\n",
              "      <th>Unnamed: 0</th>\n",
              "      <th>proj_name</th>\n",
              "      <th>date_time</th>\n",
              "      <th>author_name</th>\n",
              "      <th>email_id</th>\n",
              "      <th>Unnamed: 0.1</th>\n",
              "    </tr>\n",
              "  </thead>\n",
              "  <tbody>\n",
              "    <tr>\n",
              "      <th>1966</th>\n",
              "      <td>1966.0</td>\n",
              "      <td>accumulo</td>\n",
              "      <td>2020-12-02 21:41:00</td>\n",
              "      <td>dependabot[bot]</td>\n",
              "      <td>&lt;49699333+dependabot[bot]@users.noreply.github...</td>\n",
              "      <td>NaN</td>\n",
              "    </tr>\n",
              "    <tr>\n",
              "      <th>1967</th>\n",
              "      <td>1967.0</td>\n",
              "      <td>accumulo</td>\n",
              "      <td>2020-12-03 14:03:00</td>\n",
              "      <td>Christopher Tubbs</td>\n",
              "      <td>&lt;ctubbsii@apache.org&gt;</td>\n",
              "      <td>NaN</td>\n",
              "    </tr>\n",
              "    <tr>\n",
              "      <th>1968</th>\n",
              "      <td>1968.0</td>\n",
              "      <td>accumulo</td>\n",
              "      <td>2020-12-04 16:02:00</td>\n",
              "      <td>Dave Marion</td>\n",
              "      <td>&lt;dlmarion@apache.org&gt;</td>\n",
              "      <td>NaN</td>\n",
              "    </tr>\n",
              "    <tr>\n",
              "      <th>1969</th>\n",
              "      <td>1969.0</td>\n",
              "      <td>accumulo</td>\n",
              "      <td>2020-11-02 15:14:00</td>\n",
              "      <td>Mike Miller</td>\n",
              "      <td>&lt;mmiller@apache.org&gt;</td>\n",
              "      <td>NaN</td>\n",
              "    </tr>\n",
              "    <tr>\n",
              "      <th>1970</th>\n",
              "      <td>1970.0</td>\n",
              "      <td>accumulo</td>\n",
              "      <td>2020-11-03 00:53:00</td>\n",
              "      <td>Christopher Tubbs</td>\n",
              "      <td>&lt;ctubbsii@apache.org&gt;</td>\n",
              "      <td>NaN</td>\n",
              "    </tr>\n",
              "  </tbody>\n",
              "</table>\n",
              "</div>"
            ],
            "text/plain": [
              "      Unnamed: 0  ... Unnamed: 0.1\n",
              "1966      1966.0  ...          NaN\n",
              "1967      1967.0  ...          NaN\n",
              "1968      1968.0  ...          NaN\n",
              "1969      1969.0  ...          NaN\n",
              "1970      1970.0  ...          NaN\n",
              "\n",
              "[5 rows x 6 columns]"
            ]
          },
          "metadata": {
            "tags": []
          },
          "execution_count": 19
        }
      ]
    }
  ]
}