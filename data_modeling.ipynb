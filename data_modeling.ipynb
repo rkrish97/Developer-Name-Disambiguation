{
  "nbformat": 4,
  "nbformat_minor": 0,
  "metadata": {
    "colab": {
      "name": "data_modeling",
      "provenance": [],
      "collapsed_sections": [],
      "authorship_tag": "ABX9TyO6gNas3dX/L4+UVef0WWf6",
      "include_colab_link": true
    },
    "kernelspec": {
      "name": "python3",
      "display_name": "Python 3"
    }
  },
  "cells": [
    {
      "cell_type": "markdown",
      "metadata": {
        "id": "view-in-github",
        "colab_type": "text"
      },
      "source": [
        "<a href=\"https://colab.research.google.com/github/Vishal-ib97/Developer-Name-Disambiguation/blob/main/data_modeling.ipynb\" target=\"_parent\"><img src=\"https://colab.research.google.com/assets/colab-badge.svg\" alt=\"Open In Colab\"/></a>"
      ]
    },
    {
      "cell_type": "code",
      "metadata": {
        "id": "gZK2LE6xIlVL",
        "colab": {
          "base_uri": "https://localhost:8080/"
        },
        "outputId": "72cd48c2-438b-4a34-b7ac-448c21863e6b"
      },
      "source": [
        "from IPython.core.display import HTML\r\n",
        "import numpy as np\r\n",
        "import matplotlib.pyplot as plt\r\n",
        "import pandas as pd\r\n",
        "import datetime\r\n",
        "import os\r\n",
        "import pandas as pd\r\n",
        "import numpy as np\r\n",
        "!pip install pyjarowinkler\r\n",
        "import pyjarowinkler\r\n",
        "from pyjarowinkler import distance\r\n",
        "from collections import defaultdict\r\n",
        "from numpy import linalg as LA\r\n",
        "from sklearn.cluster import KMeans\r\n",
        "from sklearn.decomposition import PCA\r\n",
        "pd.set_option('display.max_rows', 100)"
      ],
      "execution_count": 26,
      "outputs": [
        {
          "output_type": "stream",
          "text": [
            "Requirement already satisfied: pyjarowinkler in /usr/local/lib/python3.6/dist-packages (1.8)\n"
          ],
          "name": "stdout"
        }
      ]
    },
    {
      "cell_type": "code",
      "metadata": {
        "colab": {
          "base_uri": "https://localhost:8080/"
        },
        "id": "gHER08nPJKGY",
        "outputId": "6190c0b1-af79-49be-92fe-6b91401a1f88"
      },
      "source": [
        "#mount drive\r\n",
        "from google.colab import drive\r\n",
        "drive.mount('/content/gdrive')"
      ],
      "execution_count": 2,
      "outputs": [
        {
          "output_type": "stream",
          "text": [
            "Mounted at /content/gdrive\n"
          ],
          "name": "stdout"
        }
      ]
    },
    {
      "cell_type": "code",
      "metadata": {
        "id": "KQxsI6AOuE_G"
      },
      "source": [
        "#loading the commit data cohort and the info extracted from JSON file\r\n",
        "f = pd.read_csv(\"/content/gdrive/MyDrive/GG_Project_NLP/Data/commit_messages/final_cleaned_10_updated_13dec_v3.csv\")  #commit data\r\n",
        "com = pd.read_csv(\"/content/gdrive/MyDrive/GG_Project_NLP/Data/commit_messages/json_data_updated_13dec_v3.csv\")       #JSON file"
      ],
      "execution_count": 3,
      "outputs": []
    },
    {
      "cell_type": "code",
      "metadata": {
        "colab": {
          "base_uri": "https://localhost:8080/"
        },
        "id": "J0uaYvTXtPEo",
        "outputId": "6852615a-777f-4813-c8ef-2727525dfcc9"
      },
      "source": [
        "f.shape"
      ],
      "execution_count": 59,
      "outputs": [
        {
          "output_type": "execute_result",
          "data": {
            "text/plain": [
              "(657, 13)"
            ]
          },
          "metadata": {
            "tags": []
          },
          "execution_count": 59
        }
      ]
    },
    {
      "cell_type": "markdown",
      "metadata": {
        "id": "ggp_Rutpcdrj"
      },
      "source": [
        "### **Finding the full author names**"
      ]
    },
    {
      "cell_type": "code",
      "metadata": {
        "id": "pnCkQD7Thly8"
      },
      "source": [
        "#Calculating the similarities projectwise\r\n",
        "proj_dict = defaultdict()\r\n",
        "project_groups = f.groupby('proj_name')\r\n",
        "for proj in project_groups.groups:\r\n",
        "  sim = defaultdict(list)\r\n",
        "  for i in zip(f[f.proj_name == proj].author_name, f[f.proj_name == proj].email_id):\r\n",
        "    if i not in sim:\r\n",
        "      for j in zip(com[com.project == proj].author_name, com[com.project == proj].user_ids):\r\n",
        "        if not pd.isnull(j[1]):\r\n",
        "          if j not in sim[i]:\r\n",
        "            a = distance.get_jaro_distance(i[0], j[0], winkler=False, scaling=0.8)\r\n",
        "            b = distance.get_jaro_distance(i[0], j[1], winkler=False, scaling=0.8)\r\n",
        "            c = distance.get_jaro_distance(i[1], j[0], winkler=False, scaling=0.8)\r\n",
        "            d = distance.get_jaro_distance(i[1], j[1], winkler=False, scaling=0.8)\r\n",
        "          sim_score = LA.norm([a, b, c, d], np.inf)\r\n",
        "        else:\r\n",
        "          if j not in sim[i]:\r\n",
        "            a = distance.get_jaro_distance(i[0], j[0], winkler=False, scaling=0.8)\r\n",
        "            c = distance.get_jaro_distance(i[1], j[0], winkler=False, scaling=0.8)\r\n",
        "          sim_score = LA.norm([a, c], np.inf)\r\n",
        "  \r\n",
        "        sim[i].append((j, sim_score))\r\n",
        "  proj_dict[proj] = sim\r\n",
        "\r\n",
        "#getting the top k ranked names\r\n",
        "def rank(poject, name, email, k):\r\n",
        "  return sorted(proj_dict[poject][(name, email)], key = lambda x: x[1], reverse = True)[:k]"
      ],
      "execution_count": 4,
      "outputs": []
    },
    {
      "cell_type": "code",
      "metadata": {
        "colab": {
          "base_uri": "https://localhost:8080/",
          "height": 419
        },
        "id": "XksrZ31B-3ni",
        "outputId": "84f50d07-1c0f-48ea-a8bd-5910dcb06f34"
      },
      "source": [
        "f"
      ],
      "execution_count": 31,
      "outputs": [
        {
          "output_type": "execute_result",
          "data": {
            "text/html": [
              "<div>\n",
              "<style scoped>\n",
              "    .dataframe tbody tr th:only-of-type {\n",
              "        vertical-align: middle;\n",
              "    }\n",
              "\n",
              "    .dataframe tbody tr th {\n",
              "        vertical-align: top;\n",
              "    }\n",
              "\n",
              "    .dataframe thead th {\n",
              "        text-align: right;\n",
              "    }\n",
              "</style>\n",
              "<table border=\"1\" class=\"dataframe\">\n",
              "  <thead>\n",
              "    <tr style=\"text-align: right;\">\n",
              "      <th></th>\n",
              "      <th>Unnamed: 0</th>\n",
              "      <th>index</th>\n",
              "      <th>Unnamed: 0.1</th>\n",
              "      <th>Unnamed: 0.1.1</th>\n",
              "      <th>proj_name</th>\n",
              "      <th>date_time</th>\n",
              "      <th>author_name</th>\n",
              "      <th>email_id</th>\n",
              "      <th>from</th>\n",
              "      <th>actual name</th>\n",
              "      <th>actual email</th>\n",
              "      <th>add_json</th>\n",
              "      <th>Similar</th>\n",
              "    </tr>\n",
              "  </thead>\n",
              "  <tbody>\n",
              "    <tr>\n",
              "      <th>0</th>\n",
              "      <td>0</td>\n",
              "      <td>0</td>\n",
              "      <td>0</td>\n",
              "      <td>0</td>\n",
              "      <td>accumulo</td>\n",
              "      <td>2020-12-03 14.03.00</td>\n",
              "      <td>christopher tubbs</td>\n",
              "      <td>ctubbsii</td>\n",
              "      <td>ctubb...@apache.org</td>\n",
              "      <td>christopher tubbs</td>\n",
              "      <td>ctubbsii</td>\n",
              "      <td>NaN</td>\n",
              "      <td>NaN</td>\n",
              "    </tr>\n",
              "    <tr>\n",
              "      <th>1</th>\n",
              "      <td>1</td>\n",
              "      <td>1</td>\n",
              "      <td>1</td>\n",
              "      <td>1</td>\n",
              "      <td>accumulo</td>\n",
              "      <td>2020-12-04 16.02.00</td>\n",
              "      <td>dave marion</td>\n",
              "      <td>dlmarion</td>\n",
              "      <td>dlmar...@apache.org</td>\n",
              "      <td>dave marion</td>\n",
              "      <td>dlmarion</td>\n",
              "      <td>NaN</td>\n",
              "      <td>NaN</td>\n",
              "    </tr>\n",
              "    <tr>\n",
              "      <th>2</th>\n",
              "      <td>2</td>\n",
              "      <td>2</td>\n",
              "      <td>2</td>\n",
              "      <td>2</td>\n",
              "      <td>accumulo</td>\n",
              "      <td>2020-11-02 15.14.00</td>\n",
              "      <td>mike miller</td>\n",
              "      <td>mmiller</td>\n",
              "      <td>mmil...@apache.org</td>\n",
              "      <td>mike miller</td>\n",
              "      <td>mmiller</td>\n",
              "      <td>NaN</td>\n",
              "      <td>NaN</td>\n",
              "    </tr>\n",
              "    <tr>\n",
              "      <th>3</th>\n",
              "      <td>3</td>\n",
              "      <td>3</td>\n",
              "      <td>3</td>\n",
              "      <td>3</td>\n",
              "      <td>accumulo</td>\n",
              "      <td>2020-11-03 17.39.00</td>\n",
              "      <td>keith turner</td>\n",
              "      <td>kturner</td>\n",
              "      <td>ktur...@apache.org</td>\n",
              "      <td>keith turner</td>\n",
              "      <td>kturner</td>\n",
              "      <td>NaN</td>\n",
              "      <td>NaN</td>\n",
              "    </tr>\n",
              "    <tr>\n",
              "      <th>4</th>\n",
              "      <td>4</td>\n",
              "      <td>4</td>\n",
              "      <td>4</td>\n",
              "      <td>4</td>\n",
              "      <td>accumulo</td>\n",
              "      <td>2020-11-04 18.25.00</td>\n",
              "      <td>jeffrey manno</td>\n",
              "      <td>jeffreymanno15</td>\n",
              "      <td>jma...@apache.org</td>\n",
              "      <td>jeffrey manno</td>\n",
              "      <td>jmanno</td>\n",
              "      <td>NaN</td>\n",
              "      <td>NaN</td>\n",
              "    </tr>\n",
              "    <tr>\n",
              "      <th>...</th>\n",
              "      <td>...</td>\n",
              "      <td>...</td>\n",
              "      <td>...</td>\n",
              "      <td>...</td>\n",
              "      <td>...</td>\n",
              "      <td>...</td>\n",
              "      <td>...</td>\n",
              "      <td>...</td>\n",
              "      <td>...</td>\n",
              "      <td>...</td>\n",
              "      <td>...</td>\n",
              "      <td>...</td>\n",
              "      <td>...</td>\n",
              "    </tr>\n",
              "    <tr>\n",
              "      <th>652</th>\n",
              "      <td>715</td>\n",
              "      <td>715</td>\n",
              "      <td>731</td>\n",
              "      <td>1001</td>\n",
              "      <td>wicket</td>\n",
              "      <td>2008-05-01 15.41.00</td>\n",
              "      <td>marrink</td>\n",
              "      <td>marrink</td>\n",
              "      <td>marr...@apache.org</td>\n",
              "      <td>maurice marrink</td>\n",
              "      <td>marrink</td>\n",
              "      <td>1.0</td>\n",
              "      <td>NaN</td>\n",
              "    </tr>\n",
              "    <tr>\n",
              "      <th>653</th>\n",
              "      <td>716</td>\n",
              "      <td>716</td>\n",
              "      <td>732</td>\n",
              "      <td>1002</td>\n",
              "      <td>archiva</td>\n",
              "      <td>2008-02-29 23.26.00</td>\n",
              "      <td>rinku</td>\n",
              "      <td>rinku</td>\n",
              "      <td>ri...@apache.org</td>\n",
              "      <td>rahul thakur</td>\n",
              "      <td>rinku</td>\n",
              "      <td>1.0</td>\n",
              "      <td>NaN</td>\n",
              "    </tr>\n",
              "    <tr>\n",
              "      <th>654</th>\n",
              "      <td>717</td>\n",
              "      <td>717</td>\n",
              "      <td>733</td>\n",
              "      <td>1003</td>\n",
              "      <td>subversion</td>\n",
              "      <td>2018-08-23 18.01.00</td>\n",
              "      <td>senthil kumaran s</td>\n",
              "      <td>sebb</td>\n",
              "      <td>s...@apache.org</td>\n",
              "      <td>senthil kumaran s</td>\n",
              "      <td>stylesen</td>\n",
              "      <td>NaN</td>\n",
              "      <td>NaN</td>\n",
              "    </tr>\n",
              "    <tr>\n",
              "      <th>655</th>\n",
              "      <td>718</td>\n",
              "      <td>718</td>\n",
              "      <td>735</td>\n",
              "      <td>1005</td>\n",
              "      <td>servicemix</td>\n",
              "      <td>2011-01-20 13.45.00</td>\n",
              "      <td>tobias soloschenko</td>\n",
              "      <td>thomas termin</td>\n",
              "      <td>tt...@apache.org</td>\n",
              "      <td>thomas termin</td>\n",
              "      <td>tterm</td>\n",
              "      <td>NaN</td>\n",
              "      <td>NaN</td>\n",
              "    </tr>\n",
              "    <tr>\n",
              "      <th>656</th>\n",
              "      <td>719</td>\n",
              "      <td>719</td>\n",
              "      <td>736</td>\n",
              "      <td>1006</td>\n",
              "      <td>skywalking</td>\n",
              "      <td>2020-11-12 5.45.00</td>\n",
              "      <td>wei zhang</td>\n",
              "      <td>zhangwei</td>\n",
              "      <td>zhangwe...@apache.org</td>\n",
              "      <td>wei zhang</td>\n",
              "      <td>zhangwei24</td>\n",
              "      <td>NaN</td>\n",
              "      <td>NaN</td>\n",
              "    </tr>\n",
              "  </tbody>\n",
              "</table>\n",
              "<p>657 rows × 13 columns</p>\n",
              "</div>"
            ],
            "text/plain": [
              "     Unnamed: 0  index  Unnamed: 0.1  ...  actual email add_json Similar\n",
              "0             0      0             0  ...      ctubbsii      NaN     NaN\n",
              "1             1      1             1  ...      dlmarion      NaN     NaN\n",
              "2             2      2             2  ...       mmiller      NaN     NaN\n",
              "3             3      3             3  ...       kturner      NaN     NaN\n",
              "4             4      4             4  ...        jmanno      NaN     NaN\n",
              "..          ...    ...           ...  ...           ...      ...     ...\n",
              "652         715    715           731  ...       marrink      1.0     NaN\n",
              "653         716    716           732  ...         rinku      1.0     NaN\n",
              "654         717    717           733  ...      stylesen      NaN     NaN\n",
              "655         718    718           735  ...         tterm      NaN     NaN\n",
              "656         719    719           736  ...    zhangwei24      NaN     NaN\n",
              "\n",
              "[657 rows x 13 columns]"
            ]
          },
          "metadata": {
            "tags": []
          },
          "execution_count": 31
        }
      ]
    },
    {
      "cell_type": "code",
      "metadata": {
        "colab": {
          "base_uri": "https://localhost:8080/"
        },
        "id": "GHwH15oR8379",
        "outputId": "6ea9f2b1-f481-4baf-d5dc-87bdfaff51ab"
      },
      "source": [
        "#calculating accuracy\r\n",
        "c = 0\r\n",
        "for i in zip(f.proj_name.values, f.author_name.values, f.email_id.values, f['actual name'].values):\r\n",
        "  r = list(zip(*sorted(proj_dict[i[0]][(i[1], i[2])], key = lambda x: x[1], reverse = True)))[0]\r\n",
        "  p = list(zip(*r))[0][:5]\r\n",
        "  if i[3] in p:\r\n",
        "    c += 1\r\n",
        "    #print(i[0], \"(\", i[1], \",\", i[2],\")\", i[3], p)\r\n",
        "print(c)\r\n",
        "print(\"Accuracy by checking the top\", len(p), \"matches : \", (c/len(f))*100)"
      ],
      "execution_count": 9,
      "outputs": [
        {
          "output_type": "stream",
          "text": [
            "652\n",
            "Accuracy by checking the top 5 similar names :  99.23896499238964\n"
          ],
          "name": "stdout"
        }
      ]
    },
    {
      "cell_type": "code",
      "metadata": {
        "colab": {
          "base_uri": "https://localhost:8080/"
        },
        "id": "JMZIV84nn4NR",
        "outputId": "7a902691-4cc8-4ca7-99dc-9064014cb424"
      },
      "source": [
        "rank(\"accumulo\", \"jeffrey manno\", \"jeffreymanno15\", 3)"
      ],
      "execution_count": 32,
      "outputs": [
        {
          "output_type": "execute_result",
          "data": {
            "text/plain": [
              "[(('jeffrey manno', 'jmanno'), 1.0),\n",
              " (('jeffrey s schwartz', nan), 0.7307692307692308),\n",
              " (('jeffrey zeiberg', nan), 0.7162393162393162)]"
            ]
          },
          "metadata": {
            "tags": []
          },
          "execution_count": 32
        }
      ]
    },
    {
      "cell_type": "markdown",
      "metadata": {
        "id": "bK8T0rsk8AWf"
      },
      "source": [
        "## **hidden ids**"
      ]
    },
    {
      "cell_type": "code",
      "metadata": {
        "colab": {
          "base_uri": "https://localhost:8080/"
        },
        "id": "sGmQiWnQY39-",
        "outputId": "08b9aa75-e255-4a4e-f9d0-3f739603124d"
      },
      "source": [
        "final_m = pd.read_csv(\"/content/gdrive/MyDrive/GG_Project_NLP/Data/commit_messages/final_from_df_V3.csv\")\r\n",
        "final_m.dropna(inplace = True)\r\n",
        "final_m.reset_index(inplace = True)\r\n",
        "final_m.shape"
      ],
      "execution_count": 15,
      "outputs": [
        {
          "output_type": "execute_result",
          "data": {
            "text/plain": [
              "(273, 6)"
            ]
          },
          "metadata": {
            "tags": []
          },
          "execution_count": 15
        }
      ]
    },
    {
      "cell_type": "code",
      "metadata": {
        "colab": {
          "base_uri": "https://localhost:8080/",
          "height": 419
        },
        "id": "XfTDo9WF6Skt",
        "outputId": "8be47863-9c02-4a6e-8f6e-2afd648230de"
      },
      "source": [
        "final_m"
      ],
      "execution_count": 16,
      "outputs": [
        {
          "output_type": "execute_result",
          "data": {
            "text/html": [
              "<div>\n",
              "<style scoped>\n",
              "    .dataframe tbody tr th:only-of-type {\n",
              "        vertical-align: middle;\n",
              "    }\n",
              "\n",
              "    .dataframe tbody tr th {\n",
              "        vertical-align: top;\n",
              "    }\n",
              "\n",
              "    .dataframe thead th {\n",
              "        text-align: right;\n",
              "    }\n",
              "</style>\n",
              "<table border=\"1\" class=\"dataframe\">\n",
              "  <thead>\n",
              "    <tr style=\"text-align: right;\">\n",
              "      <th></th>\n",
              "      <th>index</th>\n",
              "      <th>Unnamed: 0</th>\n",
              "      <th>proj_name</th>\n",
              "      <th>from</th>\n",
              "      <th>from_ids</th>\n",
              "      <th>full_from_ids</th>\n",
              "    </tr>\n",
              "  </thead>\n",
              "  <tbody>\n",
              "    <tr>\n",
              "      <th>0</th>\n",
              "      <td>0</td>\n",
              "      <td>0</td>\n",
              "      <td>accumulo</td>\n",
              "      <td>dlmar...@apache.org</td>\n",
              "      <td>dlmar</td>\n",
              "      <td>dlmarion</td>\n",
              "    </tr>\n",
              "    <tr>\n",
              "      <th>1</th>\n",
              "      <td>1</td>\n",
              "      <td>1</td>\n",
              "      <td>accumulo</td>\n",
              "      <td>jma...@apache.org</td>\n",
              "      <td>jma</td>\n",
              "      <td>jmanno</td>\n",
              "    </tr>\n",
              "    <tr>\n",
              "      <th>2</th>\n",
              "      <td>2</td>\n",
              "      <td>2</td>\n",
              "      <td>accumulo</td>\n",
              "      <td>ibe...@apache.org</td>\n",
              "      <td>ibe</td>\n",
              "      <td>ibella</td>\n",
              "    </tr>\n",
              "    <tr>\n",
              "      <th>3</th>\n",
              "      <td>3</td>\n",
              "      <td>3</td>\n",
              "      <td>accumulo</td>\n",
              "      <td>d...@apache.org</td>\n",
              "      <td>d</td>\n",
              "      <td>drew</td>\n",
              "    </tr>\n",
              "    <tr>\n",
              "      <th>4</th>\n",
              "      <td>4</td>\n",
              "      <td>4</td>\n",
              "      <td>accumulo</td>\n",
              "      <td>jmar...@apache.org</td>\n",
              "      <td>jmar</td>\n",
              "      <td>jmark99</td>\n",
              "    </tr>\n",
              "    <tr>\n",
              "      <th>...</th>\n",
              "      <td>...</td>\n",
              "      <td>...</td>\n",
              "      <td>...</td>\n",
              "      <td>...</td>\n",
              "      <td>...</td>\n",
              "      <td>...</td>\n",
              "    </tr>\n",
              "    <tr>\n",
              "      <th>268</th>\n",
              "      <td>270</td>\n",
              "      <td>270</td>\n",
              "      <td>wicket</td>\n",
              "      <td>marr...@apache.org</td>\n",
              "      <td>marr</td>\n",
              "      <td>marrink</td>\n",
              "    </tr>\n",
              "    <tr>\n",
              "      <th>269</th>\n",
              "      <td>271</td>\n",
              "      <td>271</td>\n",
              "      <td>archiva</td>\n",
              "      <td>ri...@apache.org</td>\n",
              "      <td>ri</td>\n",
              "      <td>rinku</td>\n",
              "    </tr>\n",
              "    <tr>\n",
              "      <th>270</th>\n",
              "      <td>272</td>\n",
              "      <td>272</td>\n",
              "      <td>subversion</td>\n",
              "      <td>s...@apache.org</td>\n",
              "      <td>s</td>\n",
              "      <td>stsp</td>\n",
              "    </tr>\n",
              "    <tr>\n",
              "      <th>271</th>\n",
              "      <td>273</td>\n",
              "      <td>273</td>\n",
              "      <td>servicemix</td>\n",
              "      <td>tt...@apache.org</td>\n",
              "      <td>tt</td>\n",
              "      <td>tterm</td>\n",
              "    </tr>\n",
              "    <tr>\n",
              "      <th>272</th>\n",
              "      <td>274</td>\n",
              "      <td>274</td>\n",
              "      <td>skywalking</td>\n",
              "      <td>zhangwe...@apache.org</td>\n",
              "      <td>zhangwe</td>\n",
              "      <td>zhangwei24</td>\n",
              "    </tr>\n",
              "  </tbody>\n",
              "</table>\n",
              "<p>273 rows × 6 columns</p>\n",
              "</div>"
            ],
            "text/plain": [
              "     index  Unnamed: 0  ... from_ids full_from_ids\n",
              "0        0           0  ...    dlmar      dlmarion\n",
              "1        1           1  ...      jma        jmanno\n",
              "2        2           2  ...      ibe        ibella\n",
              "3        3           3  ...        d          drew\n",
              "4        4           4  ...     jmar       jmark99\n",
              "..     ...         ...  ...      ...           ...\n",
              "268    270         270  ...     marr       marrink\n",
              "269    271         271  ...       ri         rinku\n",
              "270    272         272  ...        s          stsp\n",
              "271    273         273  ...       tt         tterm\n",
              "272    274         274  ...  zhangwe    zhangwei24\n",
              "\n",
              "[273 rows x 6 columns]"
            ]
          },
          "metadata": {
            "tags": []
          },
          "execution_count": 16
        }
      ]
    },
    {
      "cell_type": "code",
      "metadata": {
        "id": "UAREHEIWvPTO"
      },
      "source": [
        "#calculating the similarities\r\n",
        "hid_proj_dict = defaultdict()\r\n",
        "project_groups = final_m.groupby('proj_name')\r\n",
        "for proj in project_groups.groups:\r\n",
        "  email_sim = defaultdict(list)\r\n",
        "  for i in final_m.loc[final_m.proj_name == proj, 'from_ids'].unique():\r\n",
        "    for k in com.loc[(com.project == proj) & (~com.user_ids.isna()), \"user_ids\"].unique():\r\n",
        "      email_sim[i].append((k, distance.get_jaro_distance(i, k, winkler=False, scaling=0.8)))\r\n",
        "  hid_proj_dict[proj] = email_sim"
      ],
      "execution_count": 17,
      "outputs": []
    },
    {
      "cell_type": "code",
      "metadata": {
        "id": "8X5CUdlQ5uxs"
      },
      "source": [
        "#Appending a column with the top k matches\r\n",
        "fill = []\r\n",
        "for num, i in enumerate(final_m.index):\r\n",
        "  fill.append(list(list(zip(*sorted(hid_proj_dict[final_m.loc[i, 'proj_name']][final_m.loc[i, 'from_ids']], key = lambda x: x[1], reverse = True)))[0][:2]))\r\n",
        "fill = pd.Series(fill)\r\n",
        "final_m['filled_id'] = fill"
      ],
      "execution_count": 18,
      "outputs": []
    },
    {
      "cell_type": "code",
      "metadata": {
        "colab": {
          "base_uri": "https://localhost:8080/"
        },
        "id": "luX8MzuO6wNT",
        "outputId": "ecea925d-f59d-47f1-e545-b8c4abd5e909"
      },
      "source": [
        "#calculating the matches and accuracy\r\n",
        "c = 0\r\n",
        "for i in final_m.index:\r\n",
        "  if final_m.loc[i, \"full_from_ids\"] in final_m.loc[i, \"filled_id\"]:\r\n",
        "    c += 1\r\n",
        "    #print(final_m.loc[i, :])\r\n",
        "print(\"Accuracy by checking the top\", len(final_m.filled_id[0]), \"matches : \", (c/len(final_m))*100)"
      ],
      "execution_count": 22,
      "outputs": [
        {
          "output_type": "stream",
          "text": [
            "Accuracy by check the top 2 matches :  98.9010989010989\n"
          ],
          "name": "stdout"
        }
      ]
    },
    {
      "cell_type": "markdown",
      "metadata": {
        "id": "av-FZSYJ1EKx"
      },
      "source": [
        "## **clustering**"
      ]
    },
    {
      "cell_type": "code",
      "metadata": {
        "id": "HEHyoYMYBfKZ"
      },
      "source": [
        "#calculating the similarities and creating the similarity vectors for each pair of (author_name, email_id)\r\n",
        "clust_proj_dict = defaultdict()\r\n",
        "project_groups = f.groupby('proj_name')\r\n",
        "for proj in project_groups.groups:\r\n",
        "  sim = defaultdict(list)\r\n",
        "  for i in zip(f[f.proj_name == proj].author_name, f[f.proj_name == proj].email_id):\r\n",
        "    if i not in sim:\r\n",
        "      for j in zip(com[com.project == proj].author_name, com[com.project == proj].user_ids):\r\n",
        "        if not pd.isnull(j[1]):\r\n",
        "          a = distance.get_jaro_distance(i[0], j[0], winkler=False, scaling=0.8)\r\n",
        "          b = distance.get_jaro_distance(i[0], j[1], winkler=False, scaling=0.8)\r\n",
        "          c = distance.get_jaro_distance(i[1], j[0], winkler=False, scaling=0.8)\r\n",
        "          d = distance.get_jaro_distance(i[1], j[1], winkler=False, scaling=0.8)\r\n",
        "          sim_score = LA.norm([a, b, c, d], np.inf)\r\n",
        "        else:\r\n",
        "          a = distance.get_jaro_distance(i[0], j[0], winkler=False, scaling=0.8)\r\n",
        "          c = distance.get_jaro_distance(i[1], j[0], winkler=False, scaling=0.8)\r\n",
        "          sim_score = LA.norm([a, c], np.inf)\r\n",
        "  \r\n",
        "        sim[i].append(sim_score)\r\n",
        "  clust_proj_dict[proj] = sim"
      ],
      "execution_count": 27,
      "outputs": []
    },
    {
      "cell_type": "code",
      "metadata": {
        "colab": {
          "base_uri": "https://localhost:8080/"
        },
        "id": "KVPm7OSXoG3p",
        "outputId": "12f99a82-ce9a-437c-b12c-afc3c4c75ba2"
      },
      "source": [
        "com[com.project == \"accumulo\"].author_name.nunique(), len(clust_proj_dict[\"accumulo\"].keys())"
      ],
      "execution_count": 14,
      "outputs": [
        {
          "output_type": "execute_result",
          "data": {
            "text/plain": [
              "(108, 151)"
            ]
          },
          "metadata": {
            "tags": []
          },
          "execution_count": 14
        }
      ]
    },
    {
      "cell_type": "code",
      "metadata": {
        "id": "zeRvKuxvpC6M"
      },
      "source": [
        "#Building the kmeans model for clustering\r\n",
        "arr = np.array(list(clust_proj_dict[\"accumulo\"].values()))\r\n",
        "kmeans = KMeans(n_clusters = 108, random_state = 0).fit(arr)"
      ],
      "execution_count": 28,
      "outputs": []
    },
    {
      "cell_type": "code",
      "metadata": {
        "colab": {
          "base_uri": "https://localhost:8080/"
        },
        "id": "hzmYbPEZsW0Q",
        "outputId": "c9b6ca10-2bcd-4a8e-c60c-1495975fa528"
      },
      "source": [
        "np.array(list(clust_proj_dict[\"accumulo\"].keys()))[list(kmeans.labels_ == 17)]"
      ],
      "execution_count": 29,
      "outputs": [
        {
          "output_type": "execute_result",
          "data": {
            "text/plain": [
              "array([['bill slacum', 'bill'],\n",
              "       ['william slacum', 'ujustgotbilld'],\n",
              "       ['bill slacum', 'ujustgotbilld'],\n",
              "       ['bill slacum', 'billslacum']], dtype='<U22')"
            ]
          },
          "metadata": {
            "tags": []
          },
          "execution_count": 29
        }
      ]
    },
    {
      "cell_type": "code",
      "metadata": {
        "colab": {
          "base_uri": "https://localhost:8080/",
          "height": 282
        },
        "id": "j74DCtSs1jrY",
        "outputId": "fb94f13a-18c3-4b62-a6e7-198eb2abe7fb"
      },
      "source": [
        "#Visualizing the clustering\r\n",
        "pca = PCA(2)\r\n",
        "arr_df = pca.fit_transform(arr)\r\n",
        "names = [3, 6, 13, 20, 27, 35, 37]\r\n",
        "for i in names:\r\n",
        "  clust = arr_df[kmeans.labels_ == i]\r\n",
        "  label = np.array(list(clust_proj_dict[\"accumulo\"].keys()))[list(kmeans.labels_ == i)][0][0]\r\n",
        "  plt.scatter(clust[:, 0], clust[:, 1], label = label)\r\n",
        "#plt.xlim(-0.5, 0.6)\r\n",
        "#plt.ylim(-0.6, 0.5)\r\n",
        "plt.legend()"
      ],
      "execution_count": 30,
      "outputs": [
        {
          "output_type": "execute_result",
          "data": {
            "text/plain": [
              "<matplotlib.legend.Legend at 0x7fbb19f61630>"
            ]
          },
          "metadata": {
            "tags": []
          },
          "execution_count": 30
        },
        {
          "output_type": "display_data",
          "data": {
            "image/png": "[encoded data removed]",
            "text/plain": [
              "<Figure size 432x288 with 1 Axes>"
            ]
          },
          "metadata": {
            "tags": [],
            "needs_background": "light"
          }
        }
      ]
    }
  ]
}